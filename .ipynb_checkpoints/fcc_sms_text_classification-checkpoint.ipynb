{
 "cells": [
  {
   "cell_type": "code",
   "execution_count": 1,
   "metadata": {
    "id": "8RZOuS9LWQvv"
   },
   "outputs": [
    {
     "name": "stdout",
     "output_type": "stream",
     "text": [
      "2.11.0\n"
     ]
    }
   ],
   "source": [
    "# import libraries\n",
    "#try:\n",
    "  # %tensorflow_version only exists in Colab.\n",
    "#  !pip install tf-nightly\n",
    "#except Exception:\n",
    "#  pass\n",
    "import tensorflow as tf\n",
    "import pandas as pd\n",
    "from tensorflow import keras\n",
    "#!pip install tensorflow-datasets\n",
    "import tensorflow_datasets as tfds\n",
    "import numpy as np\n",
    "import matplotlib.pyplot as plt\n",
    "\n",
    "print(tf.__version__)"
   ]
  },
  {
   "cell_type": "code",
   "execution_count": 2,
   "metadata": {
    "id": "lMHwYXHXCar3"
   },
   "outputs": [],
   "source": [
    "# get data files\n",
    "\n",
    "train_file_path = \"train-data.tsv\"\n",
    "test_file_path = \"valid-data.tsv\""
   ]
  },
  {
   "cell_type": "code",
   "execution_count": 3,
   "metadata": {
    "id": "g_h508FEClxO"
   },
   "outputs": [
    {
     "data": {
      "text/html": [
       "<div>\n",
       "<style scoped>\n",
       "    .dataframe tbody tr th:only-of-type {\n",
       "        vertical-align: middle;\n",
       "    }\n",
       "\n",
       "    .dataframe tbody tr th {\n",
       "        vertical-align: top;\n",
       "    }\n",
       "\n",
       "    .dataframe thead th {\n",
       "        text-align: right;\n",
       "    }\n",
       "</style>\n",
       "<table border=\"1\" class=\"dataframe\">\n",
       "  <thead>\n",
       "    <tr style=\"text-align: right;\">\n",
       "      <th></th>\n",
       "      <th>0</th>\n",
       "      <th>1</th>\n",
       "    </tr>\n",
       "  </thead>\n",
       "  <tbody>\n",
       "    <tr>\n",
       "      <th>0</th>\n",
       "      <td>ham</td>\n",
       "      <td>ahhhh...just woken up!had a bad dream about u ...</td>\n",
       "    </tr>\n",
       "    <tr>\n",
       "      <th>1</th>\n",
       "      <td>ham</td>\n",
       "      <td>you can never do nothing</td>\n",
       "    </tr>\n",
       "    <tr>\n",
       "      <th>2</th>\n",
       "      <td>ham</td>\n",
       "      <td>now u sound like manky scouse boy steve,like! ...</td>\n",
       "    </tr>\n",
       "    <tr>\n",
       "      <th>3</th>\n",
       "      <td>ham</td>\n",
       "      <td>mum say we wan to go then go... then she can s...</td>\n",
       "    </tr>\n",
       "    <tr>\n",
       "      <th>4</th>\n",
       "      <td>ham</td>\n",
       "      <td>never y lei... i v lazy... got wat? dat day ü ...</td>\n",
       "    </tr>\n",
       "  </tbody>\n",
       "</table>\n",
       "</div>"
      ],
      "text/plain": [
       "     0                                                  1\n",
       "0  ham  ahhhh...just woken up!had a bad dream about u ...\n",
       "1  ham                           you can never do nothing\n",
       "2  ham  now u sound like manky scouse boy steve,like! ...\n",
       "3  ham  mum say we wan to go then go... then she can s...\n",
       "4  ham  never y lei... i v lazy... got wat? dat day ü ..."
      ]
     },
     "execution_count": 3,
     "metadata": {},
     "output_type": "execute_result"
    }
   ],
   "source": [
    "train_data=pd.read_csv(train_file_path, delimiter=\"\\t\", header=None)\n",
    "test_data=pd.read_csv(test_file_path, delimiter=\"\\t\", header=None)\n",
    "train_data.head()"
   ]
  },
  {
   "cell_type": "code",
   "execution_count": 35,
   "metadata": {
    "id": "zOMKywn4zReN"
   },
   "outputs": [
    {
     "name": "stdout",
     "output_type": "stream",
     "text": [
      "11330\n"
     ]
    }
   ],
   "source": [
    "labels_train=[1 if i==\"ham\" else 0 for i in train_data[0]]\n",
    "labels_test=[1 if i==\"ham\" else 0 for i in test_data[0]]\n",
    "\n",
    "set_vocab=set()\n",
    "for i in train_data[1]:\n",
    "    set_vocab.update(set(i.split()))\n",
    "print(len(set_vocab))"
   ]
  },
  {
   "cell_type": "code",
   "execution_count": 37,
   "metadata": {},
   "outputs": [],
   "source": [
    "import string\n",
    "def encode_and_pad(sms_messages, set_vocab, max_length=200):\n",
    "    dict_encodings={}\n",
    "    count=1\n",
    "    for i in set_vocab:\n",
    "        #print(str.maketrans('', '', string.punctuation))\n",
    "        dict_encodings[i.translate(str.maketrans('', '', string.punctuation)).lower()]=count\n",
    "        count=count+1\n",
    "    encoded_sms=[[dict_encodings[j.translate(str.maketrans('', '', string.punctuation)).lower()] for j in i.split(\" \")] for i in train_data[1]]\n",
    "\n",
    "    for i in range(len(encoded_sms)):\n",
    "        if len(encoded_sms[i])< max_length:\n",
    "            #encoded_sms[i]=np.asarray(encoded_sms[i] + ((max_length-len(encoded_sms[i]))*[0])).astype(\"float32\")\n",
    "            encoded_sms[i]=((max_length-len(encoded_sms[i]))*[0]) + encoded_sms[i] \n",
    "    return np.array(encoded_sms)\n",
    "\n",
    "encoded_train_sms=encode_and_pad(train_data[1], set_vocab)    \n",
    "encoded_test_sms=encode_and_pad(test_data[1], set_vocab)    \n",
    "#print(np.array(encoded_train_sms))\n"
   ]
  },
  {
   "cell_type": "code",
   "execution_count": 60,
   "metadata": {},
   "outputs": [
    {
     "data": {
      "text/plain": [
       "array([[    0,     0,     0, ..., 10436,  9761, 11165],\n",
       "       [    0,     0,     0, ...,  9292, 10853,  7673],\n",
       "       [    0,     0,     0, ...,  2841, 10534,  7659],\n",
       "       ...,\n",
       "       [    0,     0,     0, ...,  8145, 10692,  8020],\n",
       "       [    0,     0,     0, ...,  9574,  4130, 10824],\n",
       "       [    0,     0,     0, ...,  1486,  2430,  9543]])"
      ]
     },
     "execution_count": 60,
     "metadata": {},
     "output_type": "execute_result"
    }
   ],
   "source": [
    "model = keras.Sequential()\n",
    "\n",
    "model.add(keras.layers.Embedding(\n",
    "    11331,\n",
    "    100,\n",
    "    input_length=200)),\n",
    "model.add(keras.layers.Flatten())\n",
    "model.add(keras.layers.Dropout(0.2))\n",
    "model.add(keras.layers.Dense(100, activation='sigmoid'))\n",
    "model.add(keras.layers.Dense(1, activation='sigmoid'))\n",
    "# compile the model\n",
    "model.compile(optimizer='adam', loss='binary_crossentropy', metrics=['accuracy'])\n",
    "\n",
    "#monitor = keras.callbacks.EarlyStopping(monitor='val_acc', min_delta=1e-4, patience=25, verbose=1, mode='max', restore_best_weights=True)\n",
    "\n",
    "labels_train=np.array(labels_train).astype('float32').reshape((-1,1))\n",
    "labels_test=np.array(labels_test).astype('float32').reshape((-1,1))\n",
    "#labels_train\n",
    "encoded_train_sms"
   ]
  },
  {
   "cell_type": "code",
   "execution_count": 61,
   "metadata": {},
   "outputs": [
    {
     "name": "stdout",
     "output_type": "stream",
     "text": [
      "Epoch 1/10\n",
      "131/131 [==============================] - 9s 52ms/step - loss: 0.1907 - accuracy: 0.9301\n",
      "Epoch 2/10\n",
      "131/131 [==============================] - 6s 49ms/step - loss: 0.0396 - accuracy: 0.9899\n",
      "Epoch 3/10\n",
      "131/131 [==============================] - 6s 48ms/step - loss: 0.0168 - accuracy: 0.9959\n",
      "Epoch 4/10\n",
      "131/131 [==============================] - 7s 51ms/step - loss: 0.0068 - accuracy: 0.9990\n",
      "Epoch 5/10\n",
      "131/131 [==============================] - 6s 47ms/step - loss: 0.0035 - accuracy: 0.9995\n",
      "Epoch 6/10\n",
      "131/131 [==============================] - 6s 49ms/step - loss: 0.0023 - accuracy: 0.9998\n",
      "Epoch 7/10\n",
      "131/131 [==============================] - 6s 49ms/step - loss: 0.0013 - accuracy: 0.9998\n",
      "Epoch 8/10\n",
      "131/131 [==============================] - 6s 49ms/step - loss: 8.3435e-04 - accuracy: 1.0000\n",
      "Epoch 9/10\n",
      "131/131 [==============================] - 7s 52ms/step - loss: 6.5421e-04 - accuracy: 1.0000\n",
      "Epoch 10/10\n",
      "131/131 [==============================] - 6s 48ms/step - loss: 4.6374e-04 - accuracy: 1.0000\n"
     ]
    },
    {
     "data": {
      "text/plain": [
       "<keras.callbacks.History at 0x1e79bb19b20>"
      ]
     },
     "execution_count": 61,
     "metadata": {},
     "output_type": "execute_result"
    }
   ],
   "source": [
    "#model.fit(encoded_train_sms, labels_train, callbacks=[monitor], epochs=10)\n",
    "model.fit(encoded_train_sms, labels_train, epochs=20)"
   ]
  },
  {
   "cell_type": "code",
   "execution_count": 90,
   "metadata": {
    "id": "J9tD9yACG6M9"
   },
   "outputs": [
    {
     "name": "stdout",
     "output_type": "stream",
     "text": [
      "1/1 [==============================] - 0s 65ms/step\n",
      "[0.9997586011886597, 'ham']\n"
     ]
    }
   ],
   "source": [
    "# function to predict messages based on model\n",
    "# (should return list containing prediction and label, ex. [0.008318834938108921, 'ham'])\n",
    "def predict_message(pred_text, set_vocab=set_vocab):\n",
    "    dict_encodings={}\n",
    "    count=1\n",
    "    for i in set_vocab:\n",
    "        #print(str.maketrans('', '', string.punctuation))\n",
    "        dict_encodings[i.translate(str.maketrans('', '', string.punctuation)).lower()]=count\n",
    "        count=count+1\n",
    "    encoded_msg=[]\n",
    "    for i in pred_text.split():\n",
    "        formatted_string=i.translate(str.maketrans('', '', string.punctuation)).lower()\n",
    "        if formatted_string not in dict_encodings:\n",
    "            encoded_msg.append(0)\n",
    "        else:\n",
    "            encoded_msg.append(dict_encodings[formatted_string])\n",
    "    encoded_msg=((200-len(encoded_msg))*[0])+encoded_msg\n",
    "    encoded_msg=np.array(encoded_msg).reshape((1,-1))\n",
    "    prediction1=model.predict(encoded_msg).item()\n",
    "    prediction2=\"ham\" if prediction1>0.5 else \"spam\"\n",
    "    prediction=[prediction1, prediction2]\n",
    "\n",
    "    return (prediction)\n",
    "\n",
    "pred_text = \"how are you doing today?\"\n",
    "\n",
    "prediction = predict_message(pred_text)\n",
    "print(prediction)"
   ]
  },
  {
   "cell_type": "code",
   "execution_count": 91,
   "metadata": {
    "id": "Dxotov85SjsC"
   },
   "outputs": [
    {
     "name": "stdout",
     "output_type": "stream",
     "text": [
      "1/1 [==============================] - 0s 60ms/step\n",
      "1/1 [==============================] - 0s 77ms/step\n",
      "1/1 [==============================] - 0s 56ms/step\n",
      "1/1 [==============================] - 0s 67ms/step\n",
      "1/1 [==============================] - 0s 73ms/step\n",
      "1/1 [==============================] - 0s 53ms/step\n",
      "1/1 [==============================] - 0s 50ms/step\n",
      "You passed the challenge. Great job!\n"
     ]
    }
   ],
   "source": [
    "# Run this cell to test your function and model. Do not modify contents.\n",
    "def test_predictions():\n",
    "  test_messages = [\"how are you doing today\",\n",
    "                   \"sale today! to stop texts call 98912460324\",\n",
    "                   \"i dont want to go. can we try it a different day? available sat\",\n",
    "                   \"our new mobile video service is live. just install on your phone to start watching.\",\n",
    "                   \"you have won £1000 cash! call to claim your prize.\",\n",
    "                   \"i'll bring it tomorrow. don't forget the milk.\",\n",
    "                   \"wow, is your arm alright. that happened to me one time too\"\n",
    "                  ]\n",
    "\n",
    "  test_answers = [\"ham\", \"spam\", \"ham\", \"spam\", \"spam\", \"ham\", \"ham\"]\n",
    "  passed = True\n",
    "\n",
    "  for msg, ans in zip(test_messages, test_answers):\n",
    "    prediction = predict_message(msg)\n",
    "    if prediction[1] != ans:\n",
    "      passed = False\n",
    "\n",
    "  if passed:\n",
    "    print(\"You passed the challenge. Great job!\")\n",
    "  else:\n",
    "    print(\"You haven't passed yet. Keep trying.\")\n",
    "\n",
    "test_predictions()\n"
   ]
  },
  {
   "cell_type": "code",
   "execution_count": null,
   "metadata": {},
   "outputs": [],
   "source": []
  }
 ],
 "metadata": {
  "colab": {
   "name": "fcc_sms_text_classification.ipynb",
   "private_outputs": true,
   "provenance": [],
   "toc_visible": true
  },
  "kernelspec": {
   "display_name": "Python 3 (ipykernel)",
   "language": "python",
   "name": "python3"
  },
  "language_info": {
   "codemirror_mode": {
    "name": "ipython",
    "version": 3
   },
   "file_extension": ".py",
   "mimetype": "text/x-python",
   "name": "python",
   "nbconvert_exporter": "python",
   "pygments_lexer": "ipython3",
   "version": "3.9.7"
  }
 },
 "nbformat": 4,
 "nbformat_minor": 1
}
