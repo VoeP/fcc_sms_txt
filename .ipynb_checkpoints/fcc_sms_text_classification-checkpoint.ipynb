{
 "cells": [
  {
   "cell_type": "code",
   "execution_count": 2,
   "metadata": {
    "id": "8RZOuS9LWQvv"
   },
   "outputs": [
    {
     "name": "stdout",
     "output_type": "stream",
     "text": [
      "2.11.0\n"
     ]
    }
   ],
   "source": [
    "# import libraries\n",
    "#try:\n",
    "  # %tensorflow_version only exists in Colab.\n",
    "#  !pip install tf-nightly\n",
    "#except Exception:\n",
    "#  pass\n",
    "import tensorflow as tf\n",
    "import pandas as pd\n",
    "from tensorflow import keras\n",
    "#!pip install tensorflow-datasets\n",
    "import tensorflow_datasets as tfds\n",
    "import numpy as np\n",
    "import matplotlib.pyplot as plt\n",
    "\n",
    "print(tf.__version__)"
   ]
  },
  {
   "cell_type": "code",
   "execution_count": 3,
   "metadata": {
    "id": "lMHwYXHXCar3"
   },
   "outputs": [],
   "source": [
    "# get data files\n",
    "\n",
    "train_file_path = \"train-data.tsv\"\n",
    "test_file_path = \"valid-data.tsv\""
   ]
  },
  {
   "cell_type": "code",
   "execution_count": 11,
   "metadata": {
    "id": "g_h508FEClxO"
   },
   "outputs": [
    {
     "data": {
      "text/html": [
       "<div>\n",
       "<style scoped>\n",
       "    .dataframe tbody tr th:only-of-type {\n",
       "        vertical-align: middle;\n",
       "    }\n",
       "\n",
       "    .dataframe tbody tr th {\n",
       "        vertical-align: top;\n",
       "    }\n",
       "\n",
       "    .dataframe thead th {\n",
       "        text-align: right;\n",
       "    }\n",
       "</style>\n",
       "<table border=\"1\" class=\"dataframe\">\n",
       "  <thead>\n",
       "    <tr style=\"text-align: right;\">\n",
       "      <th></th>\n",
       "      <th>0</th>\n",
       "      <th>1</th>\n",
       "    </tr>\n",
       "  </thead>\n",
       "  <tbody>\n",
       "    <tr>\n",
       "      <th>0</th>\n",
       "      <td>ham</td>\n",
       "      <td>ahhhh...just woken up!had a bad dream about u ...</td>\n",
       "    </tr>\n",
       "    <tr>\n",
       "      <th>1</th>\n",
       "      <td>ham</td>\n",
       "      <td>you can never do nothing</td>\n",
       "    </tr>\n",
       "    <tr>\n",
       "      <th>2</th>\n",
       "      <td>ham</td>\n",
       "      <td>now u sound like manky scouse boy steve,like! ...</td>\n",
       "    </tr>\n",
       "    <tr>\n",
       "      <th>3</th>\n",
       "      <td>ham</td>\n",
       "      <td>mum say we wan to go then go... then she can s...</td>\n",
       "    </tr>\n",
       "    <tr>\n",
       "      <th>4</th>\n",
       "      <td>ham</td>\n",
       "      <td>never y lei... i v lazy... got wat? dat day ü ...</td>\n",
       "    </tr>\n",
       "  </tbody>\n",
       "</table>\n",
       "</div>"
      ],
      "text/plain": [
       "     0                                                  1\n",
       "0  ham  ahhhh...just woken up!had a bad dream about u ...\n",
       "1  ham                           you can never do nothing\n",
       "2  ham  now u sound like manky scouse boy steve,like! ...\n",
       "3  ham  mum say we wan to go then go... then she can s...\n",
       "4  ham  never y lei... i v lazy... got wat? dat day ü ..."
      ]
     },
     "execution_count": 11,
     "metadata": {},
     "output_type": "execute_result"
    }
   ],
   "source": [
    "train_data=pd.read_csv(train_file_path, delimiter=\"\\t\", header=None)\n",
    "test_data=pd.read_csv(test_file_path, delimiter=\"\\t\", header=None)\n",
    "train_data.head()"
   ]
  },
  {
   "cell_type": "code",
   "execution_count": 17,
   "metadata": {
    "id": "zOMKywn4zReN"
   },
   "outputs": [
    {
     "name": "stdout",
     "output_type": "stream",
     "text": [
      "11331\n"
     ]
    }
   ],
   "source": [
    "labels_train=[1 if i==\"ham\" else 0 for i in train_data[0]]\n",
    "labels_test=[1 if i==\"ham\" else 0 for i in test_data[0]]\n",
    "\n",
    "set_vocab=set()\n",
    "for i in train_data[1]:\n",
    "    set_vocab.update(set(i.split(\" \")))\n",
    "print(len(set_vocab))"
   ]
  },
  {
   "cell_type": "code",
   "execution_count": 45,
   "metadata": {},
   "outputs": [
    {
     "name": "stderr",
     "output_type": "stream",
     "text": [
      "C:\\Users\\volte\\AppData\\Local\\Temp\\ipykernel_1912\\2473082386.py:7: VisibleDeprecationWarning: Creating an ndarray from ragged nested sequences (which is a list-or-tuple of lists-or-tuples-or ndarrays with different lengths or shapes) is deprecated. If you meant to do this, you must specify 'dtype=object' when creating the ndarray.\n",
      "  encoded_sms=np.array([one_hot(sms, 11332) for sms in train_data[1]])\n"
     ]
    },
    {
     "data": {
      "text/plain": [
       "array([list([7338, 2389, 1179, 9401, 9631, 10760, 9427, 8563, 11083, 3, 9577, 8195, 304, 166, 5250, 3, 281, 3023, 304, 3349, 4423, 9974, 11083, 2364, 4332, 9718, 304, 1605, 5833, 9401, 2970, 4896]),\n",
       "       list([2959, 7971, 5556, 202, 9490]),\n",
       "       list([3023, 3, 9235, 5250, 7219, 10318, 1547, 11170, 5250, 304, 5427, 7755, 8445, 7518, 9605, 7719, 1268, 2692, 3, 9394, 5120, 2599, 4964, 8481]),\n",
       "       ...,\n",
       "       list([427, 8002, 193, 7579, 4318, 4308, 6177, 2389, 3817, 8418, 6551, 10539, 2168, 811, 3023, 9412, 9991, 7195, 530, 5909, 10664, 8613]),\n",
       "       list([5030, 3698, 9629, 3965, 3783, 5427, 11009, 2959, 2168, 1970, 7774, 195, 7637, 7353, 5478, 6672, 877, 5478, 10870, 7774, 530, 4319, 148, 3, 9629, 3698, 944, 3698, 5626, 2168, 9949]),\n",
       "       list([711, 5115, 9427, 6209, 8583, 3, 5854, 4171, 9391, 4614, 2171, 694, 2168, 9335, 9391, 1724, 8811, 304, 10370, 4959, 8974, 7292, 5115, 379, 8892, 6723, 4468, 2970, 6650, 7637, 1970, 31, 11070, 11008])],\n",
       "      dtype=object)"
      ]
     },
     "execution_count": 45,
     "metadata": {},
     "output_type": "execute_result"
    }
   ],
   "source": [
    "from keras.preprocessing.text import one_hot\n",
    "\n",
    "sequence_length = 50\n",
    "e=keras.layers.Embedding(11332, 32, input_length=50)\n",
    "\n",
    "hot_encodings=\n",
    "encoded_sms=np.array([one_hot(sms, 11332) for sms in train_data[1]])\n",
    "\n",
    "encoded_sms"
   ]
  },
  {
   "cell_type": "code",
   "execution_count": 46,
   "metadata": {},
   "outputs": [
    {
     "name": "stdout",
     "output_type": "stream",
     "text": [
      "<class 'numpy.ndarray'>\n"
     ]
    }
   ],
   "source": [
    "max_length = 50\n",
    "padded_sms = keras.utils.pad_sequences(encoded_sms, maxlen=max_length, padding='post')\n",
    "padded_sms=np.array(padded_sms)\n",
    "print(type(padded_sms))"
   ]
  },
  {
   "cell_type": "code",
   "execution_count": 47,
   "metadata": {},
   "outputs": [],
   "source": [
    "model = keras.Sequential()\n",
    "model.add(e)\n",
    "model.add(keras.layers.Flatten())\n",
    "model.add(keras.layers.Dense(1, activation='sigmoid'))\n",
    "# compile the model\n",
    "model.compile(optimizer='adam', loss='binary_crossentropy', metrics=['accuracy'])"
   ]
  },
  {
   "cell_type": "code",
   "execution_count": 49,
   "metadata": {},
   "outputs": [
    {
     "name": "stdout",
     "output_type": "stream",
     "text": [
      "Epoch 1/50\n",
      "131/131 [==============================] - 3s 11ms/step - loss: 0.3284 - accuracy: 0.8725\n",
      "Epoch 2/50\n",
      "131/131 [==============================] - 1s 11ms/step - loss: 0.1104 - accuracy: 0.9730\n",
      "Epoch 3/50\n",
      "131/131 [==============================] - 1s 11ms/step - loss: 0.0527 - accuracy: 0.9871\n",
      "Epoch 4/50\n",
      "131/131 [==============================] - 1s 11ms/step - loss: 0.0320 - accuracy: 0.9909\n",
      "Epoch 5/50\n",
      "131/131 [==============================] - 2s 12ms/step - loss: 0.0212 - accuracy: 0.9945\n",
      "Epoch 6/50\n",
      "131/131 [==============================] - 2s 12ms/step - loss: 0.0141 - accuracy: 0.9966\n",
      "Epoch 7/50\n",
      "131/131 [==============================] - 2s 12ms/step - loss: 0.0100 - accuracy: 0.9986\n",
      "Epoch 8/50\n",
      "131/131 [==============================] - 2s 12ms/step - loss: 0.0072 - accuracy: 0.9990\n",
      "Epoch 9/50\n",
      "131/131 [==============================] - 2s 12ms/step - loss: 0.0055 - accuracy: 0.9998\n",
      "Epoch 10/50\n",
      "131/131 [==============================] - 2s 12ms/step - loss: 0.0044 - accuracy: 0.9998\n",
      "Epoch 11/50\n",
      "131/131 [==============================] - 1s 11ms/step - loss: 0.0036 - accuracy: 0.9998\n",
      "Epoch 12/50\n",
      "131/131 [==============================] - 1s 11ms/step - loss: 0.0031 - accuracy: 0.9998\n",
      "Epoch 13/50\n",
      "131/131 [==============================] - 1s 11ms/step - loss: 0.0026 - accuracy: 0.9998\n",
      "Epoch 14/50\n",
      "131/131 [==============================] - 1s 11ms/step - loss: 0.0023 - accuracy: 0.9998\n",
      "Epoch 15/50\n",
      "131/131 [==============================] - 1s 11ms/step - loss: 0.0020 - accuracy: 0.9998\n",
      "Epoch 16/50\n",
      "131/131 [==============================] - 2s 12ms/step - loss: 0.0017 - accuracy: 0.9998\n",
      "Epoch 17/50\n",
      "131/131 [==============================] - 2s 12ms/step - loss: 0.0015 - accuracy: 0.9998\n",
      "Epoch 18/50\n",
      "131/131 [==============================] - 2s 12ms/step - loss: 0.0013 - accuracy: 0.9998\n",
      "Epoch 19/50\n",
      "131/131 [==============================] - 2s 12ms/step - loss: 0.0011 - accuracy: 0.9998\n",
      "Epoch 20/50\n",
      "131/131 [==============================] - 2s 12ms/step - loss: 8.8805e-04 - accuracy: 0.9998\n",
      "Epoch 21/50\n",
      "131/131 [==============================] - 1s 11ms/step - loss: 8.1392e-04 - accuracy: 0.9998\n",
      "Epoch 22/50\n",
      "131/131 [==============================] - 1s 11ms/step - loss: 6.6363e-04 - accuracy: 0.9998\n",
      "Epoch 23/50\n",
      "131/131 [==============================] - 1s 11ms/step - loss: 5.3277e-04 - accuracy: 1.0000\n",
      "Epoch 24/50\n",
      "131/131 [==============================] - 1s 10ms/step - loss: 4.8322e-04 - accuracy: 1.0000\n",
      "Epoch 25/50\n",
      "131/131 [==============================] - 1s 10ms/step - loss: 4.0958e-04 - accuracy: 1.0000\n",
      "Epoch 26/50\n",
      "131/131 [==============================] - 1s 11ms/step - loss: 3.5506e-04 - accuracy: 1.0000\n",
      "Epoch 27/50\n",
      "131/131 [==============================] - 2s 12ms/step - loss: 3.0780e-04 - accuracy: 1.0000\n",
      "Epoch 28/50\n",
      "131/131 [==============================] - 2s 12ms/step - loss: 2.7658e-04 - accuracy: 1.0000\n",
      "Epoch 29/50\n",
      "131/131 [==============================] - 2s 12ms/step - loss: 2.4216e-04 - accuracy: 1.0000\n",
      "Epoch 30/50\n",
      "131/131 [==============================] - 2s 12ms/step - loss: 2.1679e-04 - accuracy: 1.0000\n",
      "Epoch 31/50\n",
      "131/131 [==============================] - 2s 12ms/step - loss: 1.9138e-04 - accuracy: 1.0000\n",
      "Epoch 32/50\n",
      "131/131 [==============================] - 1s 11ms/step - loss: 1.7336e-04 - accuracy: 1.0000\n",
      "Epoch 33/50\n",
      "131/131 [==============================] - 1s 11ms/step - loss: 1.5542e-04 - accuracy: 1.0000\n",
      "Epoch 34/50\n",
      "131/131 [==============================] - 1s 10ms/step - loss: 1.4175e-04 - accuracy: 1.0000\n",
      "Epoch 35/50\n",
      "131/131 [==============================] - 1s 11ms/step - loss: 1.2641e-04 - accuracy: 1.0000\n",
      "Epoch 36/50\n",
      "131/131 [==============================] - 1s 11ms/step - loss: 1.1370e-04 - accuracy: 1.0000\n",
      "Epoch 37/50\n",
      "131/131 [==============================] - 2s 12ms/step - loss: 1.0438e-04 - accuracy: 1.0000\n",
      "Epoch 38/50\n",
      "131/131 [==============================] - 2s 12ms/step - loss: 9.5215e-05 - accuracy: 1.0000\n",
      "Epoch 39/50\n",
      "131/131 [==============================] - 2s 12ms/step - loss: 8.7511e-05 - accuracy: 1.0000\n",
      "Epoch 40/50\n",
      "131/131 [==============================] - 2s 12ms/step - loss: 7.8541e-05 - accuracy: 1.0000\n",
      "Epoch 41/50\n",
      "131/131 [==============================] - 2s 12ms/step - loss: 7.1876e-05 - accuracy: 1.0000\n",
      "Epoch 42/50\n",
      "131/131 [==============================] - 2s 12ms/step - loss: 6.6387e-05 - accuracy: 1.0000\n",
      "Epoch 43/50\n",
      "131/131 [==============================] - 1s 11ms/step - loss: 6.0628e-05 - accuracy: 1.0000\n",
      "Epoch 44/50\n",
      "131/131 [==============================] - 1s 11ms/step - loss: 5.5692e-05 - accuracy: 1.0000\n",
      "Epoch 45/50\n",
      "131/131 [==============================] - 2s 12ms/step - loss: 5.1063e-05 - accuracy: 1.0000\n",
      "Epoch 46/50\n",
      "131/131 [==============================] - 2s 12ms/step - loss: 4.6526e-05 - accuracy: 1.0000\n",
      "Epoch 47/50\n",
      "131/131 [==============================] - 1s 10ms/step - loss: 4.2754e-05 - accuracy: 1.0000\n",
      "Epoch 48/50\n",
      "131/131 [==============================] - 2s 12ms/step - loss: 3.9533e-05 - accuracy: 1.0000\n",
      "Epoch 49/50\n",
      "131/131 [==============================] - 2s 12ms/step - loss: 3.6290e-05 - accuracy: 1.0000\n",
      "Epoch 50/50\n",
      "131/131 [==============================] - 2s 12ms/step - loss: 3.3664e-05 - accuracy: 1.0000\n"
     ]
    },
    {
     "data": {
      "text/plain": [
       "<keras.callbacks.History at 0x211cadd6a90>"
      ]
     },
     "execution_count": 49,
     "metadata": {},
     "output_type": "execute_result"
    }
   ],
   "source": [
    "model.fit(np.array(padded_sms), np.array(labels_train), epochs=50)"
   ]
  },
  {
   "cell_type": "code",
   "execution_count": null,
   "metadata": {
    "id": "J9tD9yACG6M9"
   },
   "outputs": [],
   "source": [
    "# function to predict messages based on model\n",
    "# (should return list containing prediction and label, ex. [0.008318834938108921, 'ham'])\n",
    "def predict_message(pred_text):\n",
    "\n",
    "\n",
    "\n",
    "  return (prediction)\n",
    "\n",
    "pred_text = \"how are you doing today?\"\n",
    "\n",
    "prediction = predict_message(pred_text)\n",
    "print(prediction)"
   ]
  },
  {
   "cell_type": "code",
   "execution_count": null,
   "metadata": {},
   "outputs": [],
   "source": []
  },
  {
   "cell_type": "code",
   "execution_count": null,
   "metadata": {
    "id": "Dxotov85SjsC"
   },
   "outputs": [],
   "source": [
    "# Run this cell to test your function and model. Do not modify contents.\n",
    "def test_predictions():\n",
    "  test_messages = [\"how are you doing today\",\n",
    "                   \"sale today! to stop texts call 98912460324\",\n",
    "                   \"i dont want to go. can we try it a different day? available sat\",\n",
    "                   \"our new mobile video service is live. just install on your phone to start watching.\",\n",
    "                   \"you have won £1000 cash! call to claim your prize.\",\n",
    "                   \"i'll bring it tomorrow. don't forget the milk.\",\n",
    "                   \"wow, is your arm alright. that happened to me one time too\"\n",
    "                  ]\n",
    "\n",
    "  test_answers = [\"ham\", \"spam\", \"ham\", \"spam\", \"spam\", \"ham\", \"ham\"]\n",
    "  passed = True\n",
    "\n",
    "  for msg, ans in zip(test_messages, test_answers):\n",
    "    prediction = predict_message(msg)\n",
    "    if prediction[1] != ans:\n",
    "      passed = False\n",
    "\n",
    "  if passed:\n",
    "    print(\"You passed the challenge. Great job!\")\n",
    "  else:\n",
    "    print(\"You haven't passed yet. Keep trying.\")\n",
    "\n",
    "test_predictions()\n"
   ]
  }
 ],
 "metadata": {
  "colab": {
   "name": "fcc_sms_text_classification.ipynb",
   "private_outputs": true,
   "provenance": [],
   "toc_visible": true
  },
  "kernelspec": {
   "display_name": "Python 3 (ipykernel)",
   "language": "python",
   "name": "python3"
  },
  "language_info": {
   "codemirror_mode": {
    "name": "ipython",
    "version": 3
   },
   "file_extension": ".py",
   "mimetype": "text/x-python",
   "name": "python",
   "nbconvert_exporter": "python",
   "pygments_lexer": "ipython3",
   "version": "3.9.7"
  }
 },
 "nbformat": 4,
 "nbformat_minor": 1
}
